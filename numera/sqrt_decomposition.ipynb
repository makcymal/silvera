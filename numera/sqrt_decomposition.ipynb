{
 "cells": [
  {
   "cell_type": "code",
   "execution_count": 12,
   "metadata": {},
   "outputs": [],
   "source": [
    "import numpy as np"
   ]
  },
  {
   "cell_type": "code",
   "execution_count": 13,
   "metadata": {},
   "outputs": [],
   "source": [
    "def sqrt_decomposition(matr: np.ndarray) -> np.ndarray:\n",
    "  N = matr.shape[0]\n",
    "  sqrt = np.zeros((N, N), dtype=np.complex128)\n",
    "  for r in range(N):\n",
    "    sqrt[r][r] = (matr[r][r] - sum(sqrt[k][r] ** 2 for k in range(0, r))) ** 0.5\n",
    "    for c in range(r + 1, N):\n",
    "      sqrt[r][c] = (matr[r][c] - sum(\n",
    "        sqrt[k][r] * sqrt[k][c] for k in range(0, r)\n",
    "      )) / sqrt[r][r]\n",
    "  \n",
    "  return sqrt"
   ]
  },
  {
   "cell_type": "code",
   "execution_count": 14,
   "metadata": {},
   "outputs": [
    {
     "data": {
      "text/plain": [
       "4.173943863294798e-15"
      ]
     },
     "execution_count": 14,
     "metadata": {},
     "output_type": "execute_result"
    }
   ],
   "source": [
    "matr = np.array([\n",
    "    [2.2, 4, -3, 1.5, 0.6, 2, 0.7],\n",
    "    [4, 3.2, 1.5, -0.7, -0.8, 3, 1],\n",
    "    [-3, 1.5, 1.8, 0.9, 3, 2, 2],\n",
    "    [1.5, -0.7, 0.9, 2.2, 4, 3, 1],\n",
    "    [0.6, -0.8, 3, 4, 3.2, 0.6, 0.7],\n",
    "    [2, 3, 2, 3, 0.6, 2.2, 4],\n",
    "    [0.7, 1, 2, 1, 0.7, 4, 3.2]\n",
    "])\n",
    "matr = matr.astype(np.complex128)\n",
    "\n",
    "sqrt = sqrt_decomposition(matr)\n",
    "np.linalg.norm(sqrt.T @ sqrt - matr)"
   ]
  }
 ],
 "metadata": {
  "kernelspec": {
   "display_name": "silvera",
   "language": "python",
   "name": "python3"
  },
  "language_info": {
   "codemirror_mode": {
    "name": "ipython",
    "version": 3
   },
   "file_extension": ".py",
   "mimetype": "text/x-python",
   "name": "python",
   "nbconvert_exporter": "python",
   "pygments_lexer": "ipython3",
   "version": "3.1.0"
  }
 },
 "nbformat": 4,
 "nbformat_minor": 2
}
