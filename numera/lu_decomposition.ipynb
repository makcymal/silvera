{
 "cells": [
  {
   "cell_type": "code",
   "execution_count": 1,
   "metadata": {},
   "outputs": [],
   "source": [
    "import numpy as np"
   ]
  },
  {
   "cell_type": "code",
   "execution_count": 2,
   "metadata": {},
   "outputs": [],
   "source": [
    "def lu_decomposition(matr: np.ndarray) -> (np.ndarray, np.ndarray):\n",
    "  N = matr.shape[0]\n",
    "  lower = np.eye(N)\n",
    "  upper = np.zeros((N, N))\n",
    "\n",
    "  for r in range(N):\n",
    "    for c in range(r):\n",
    "      lower[r][c] = (matr[r][c] - sum(\n",
    "        lower[r][k] * upper[k][c] for k in range(c + 1)\n",
    "      )) / upper[c][c]\n",
    "    for c in range(r, N):\n",
    "      upper[r][c] = matr[r][c] - sum(\n",
    "        lower[r][k] * upper[k][c] for k in range(r + 1)\n",
    "      )\n",
    "      \n",
    "  return lower, upper"
   ]
  },
  {
   "cell_type": "code",
   "execution_count": 3,
   "metadata": {},
   "outputs": [
    {
     "data": {
      "text/plain": [
       "5.222180388738334e-16"
      ]
     },
     "execution_count": 3,
     "metadata": {},
     "output_type": "execute_result"
    }
   ],
   "source": [
    "matr = np.array([\n",
    "    [0.411, 0.421, -0.333, 0.313, -0.141, -0.381, 0.245],\n",
    "    [0.241, 0.705, 0.139, -0.409, 0.321, 0.0625, 0.101],\n",
    "    [0.123, -0.239, 0.502, 0.901, 0.243, 0.819, 0.321],\n",
    "    [0.413, 0.309, 0.801, 0.865, 0.423, 0.118, 0.183],\n",
    "    [0.241, -0.221, -0.243, 0.134, 1.274, 0.712, 0.423],\n",
    "    [0.281, 0.525, 0.719, 0.118, -0.974, 0.808, 0.923],\n",
    "    [0.246, -0.301, 0.231, 0.813, -0.702, 1.223, 1.105]\n",
    "])\n",
    "\n",
    "lower, upper = lu_decomposition(matr)\n",
    "np.linalg.norm(lower @ upper - matr)"
   ]
  }
 ],
 "metadata": {
  "kernelspec": {
   "display_name": "silvera",
   "language": "python",
   "name": "python3"
  },
  "language_info": {
   "codemirror_mode": {
    "name": "ipython",
    "version": 3
   },
   "file_extension": ".py",
   "mimetype": "text/x-python",
   "name": "python",
   "nbconvert_exporter": "python",
   "pygments_lexer": "ipython3",
   "version": "3.1.0"
  }
 },
 "nbformat": 4,
 "nbformat_minor": 2
}
