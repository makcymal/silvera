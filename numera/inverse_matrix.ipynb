{
 "cells": [
  {
   "cell_type": "code",
   "execution_count": 7,
   "metadata": {},
   "outputs": [],
   "source": [
    "import numpy as np"
   ]
  },
  {
   "cell_type": "code",
   "execution_count": 8,
   "metadata": {},
   "outputs": [],
   "source": [
    "def inverse_matrix(matr: np.ndarray) -> np.ndarray:\n",
    "  N = matr.shape[0]\n",
    "  \n",
    "  inv = np.zeros((N, N))\n",
    "  det = matr[1, 1] * matr[0, 0] - matr[0, 1] * matr[1, 0]\n",
    "  inv[0:2, 0:2] = [\n",
    "    [matr[1, 1], -matr[0, 1]],\n",
    "    [-matr[1, 0], matr[0, 0]]\n",
    "  ] / det\n",
    "  \n",
    "  for dim in range(2, N):\n",
    "    u = np.ix_([i for i in range(dim)], [dim])\n",
    "    v = np.ix_([dim], [i for i in range(dim)])\n",
    "    inv[dim, dim] = 1 / (\n",
    "      matr[dim, dim] - np.dot(\n",
    "          np.dot(matr[v], inv[:dim, :dim]),\n",
    "          matr[u]\n",
    "      ))[0, 0]\n",
    "    inv[u] = -np.dot(inv[:dim, :dim], matr[u]) * inv[dim, dim]\n",
    "    inv[v] = -np.dot(matr[v], inv[:dim, :dim]) * inv[dim, dim]\n",
    "    inv[:dim, :dim] += np.dot(\n",
    "      np.dot(inv[:dim, :dim], matr[u]),\n",
    "      np.dot(matr[v], inv[:dim, :dim])\n",
    "    ) * inv[dim][dim]\n",
    "  \n",
    "  return inv"
   ]
  },
  {
   "cell_type": "code",
   "execution_count": 9,
   "metadata": {},
   "outputs": [
    {
     "data": {
      "text/plain": [
       "2.8644776024726356e-15"
      ]
     },
     "execution_count": 9,
     "metadata": {},
     "output_type": "execute_result"
    }
   ],
   "source": [
    "matr = np.array([\n",
    "    [2.2, 4, -3, 1.5, 0.6, 2, 0.7],\n",
    "    [4, 3.2, 1.5, -0.7, -0.8, 3, 1],\n",
    "    [-3, 1.5, 1.8, 0.9, 3, 2, 2],\n",
    "    [1.5, -0.7, 0.9, 2.2, 4, 3, 1],\n",
    "    [0.6, -0.8, 3, 4, 3.2, 0.6, 0.7],\n",
    "    [2, 3, 2, 3, 0.6, 2.2, 4],\n",
    "    [0.7, 1, 2, 1, 0.7, 4, 3.2]\n",
    "])\n",
    "\n",
    "inv = inverse_matrix(matr)\n",
    "np.linalg.norm(matr @ inv - np.eye(matr.shape[0]))"
   ]
  }
 ],
 "metadata": {
  "kernelspec": {
   "display_name": "silvera",
   "language": "python",
   "name": "python3"
  },
  "language_info": {
   "codemirror_mode": {
    "name": "ipython",
    "version": 3
   },
   "file_extension": ".py",
   "mimetype": "text/x-python",
   "name": "python",
   "nbconvert_exporter": "python",
   "pygments_lexer": "ipython3",
   "version": "3.1.0"
  }
 },
 "nbformat": 4,
 "nbformat_minor": 2
}
